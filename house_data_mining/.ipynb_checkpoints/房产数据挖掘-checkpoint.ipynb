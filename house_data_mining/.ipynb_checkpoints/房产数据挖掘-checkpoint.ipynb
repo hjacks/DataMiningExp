{
 "cells": [
  {
   "cell_type": "markdown",
   "metadata": {},
   "source": [
    "# 导入工具包"
   ]
  },
  {
   "cell_type": "code",
   "execution_count": 11,
   "metadata": {},
   "outputs": [],
   "source": [
    "import numpy as np\n",
    "import pandas as pd\n",
    "\n",
    "pd.set_option('display.max_columns', 60)\n",
    "\n",
    "import matplotlib.pyplot as plt\n",
    "%matplotlib inline\n",
    "\n",
    "plt.rcParams['font.size'] = 24\n",
    "\n",
    "import seaborn as sns\n",
    "\n",
    "import warnings\n",
    "warnings.filterwarnings('ignore')"
   ]
  },
  {
   "cell_type": "markdown",
   "metadata": {},
   "source": [
    "# 一 获取数据"
   ]
  },
  {
   "cell_type": "markdown",
   "metadata": {},
   "source": [
    "##  1 加载数据"
   ]
  },
  {
   "cell_type": "code",
   "execution_count": 62,
   "metadata": {},
   "outputs": [],
   "source": [
    "dataset = pd.read_csv('housedata.csv')"
   ]
  },
  {
   "cell_type": "markdown",
   "metadata": {},
   "source": [
    "## 2 查看数据结构"
   ]
  },
  {
   "cell_type": "code",
   "execution_count": 63,
   "metadata": {},
   "outputs": [
    {
     "data": {
      "text/html": [
       "<div>\n",
       "<style scoped>\n",
       "    .dataframe tbody tr th:only-of-type {\n",
       "        vertical-align: middle;\n",
       "    }\n",
       "\n",
       "    .dataframe tbody tr th {\n",
       "        vertical-align: top;\n",
       "    }\n",
       "\n",
       "    .dataframe thead th {\n",
       "        text-align: right;\n",
       "    }\n",
       "</style>\n",
       "<table border=\"1\" class=\"dataframe\">\n",
       "  <thead>\n",
       "    <tr style=\"text-align: right;\">\n",
       "      <th></th>\n",
       "      <th>建筑面积</th>\n",
       "      <th>户型格局-室</th>\n",
       "      <th>户型格局-厅</th>\n",
       "      <th>户型格局-厨</th>\n",
       "      <th>户型格局-卫</th>\n",
       "      <th>是否有车位</th>\n",
       "      <th>是否有学区名额</th>\n",
       "      <th>是否地铁房名称</th>\n",
       "      <th>是否有业主房评</th>\n",
       "      <th>是否VR房</th>\n",
       "      <th>贝壳网呈现状态名称</th>\n",
       "      <th>一级委托来源</th>\n",
       "      <th>二级委托来源</th>\n",
       "      <th>等级</th>\n",
       "      <th>朝向</th>\n",
       "      <th>商圈名称</th>\n",
       "      <th>城区名称</th>\n",
       "      <th>价格</th>\n",
       "    </tr>\n",
       "  </thead>\n",
       "  <tbody>\n",
       "    <tr>\n",
       "      <td>0</td>\n",
       "      <td>62.00</td>\n",
       "      <td>2</td>\n",
       "      <td>1</td>\n",
       "      <td>1</td>\n",
       "      <td>1</td>\n",
       "      <td>-1</td>\n",
       "      <td>-1</td>\n",
       "      <td>否</td>\n",
       "      <td>0</td>\n",
       "      <td>0</td>\n",
       "      <td>房源不呈现</td>\n",
       "      <td>人际开发</td>\n",
       "      <td>转介绍</td>\n",
       "      <td>B级房源</td>\n",
       "      <td>南</td>\n",
       "      <td>信义坊</td>\n",
       "      <td>拱墅区</td>\n",
       "      <td>2300000</td>\n",
       "    </tr>\n",
       "    <tr>\n",
       "      <td>1</td>\n",
       "      <td>77.00</td>\n",
       "      <td>3</td>\n",
       "      <td>1</td>\n",
       "      <td>1</td>\n",
       "      <td>1</td>\n",
       "      <td>-1</td>\n",
       "      <td>-1</td>\n",
       "      <td>未知</td>\n",
       "      <td>1</td>\n",
       "      <td>0</td>\n",
       "      <td>房源在售</td>\n",
       "      <td>链家网</td>\n",
       "      <td>链家网</td>\n",
       "      <td>B级房源</td>\n",
       "      <td>南</td>\n",
       "      <td>富阳</td>\n",
       "      <td>富阳区</td>\n",
       "      <td>1700000</td>\n",
       "    </tr>\n",
       "    <tr>\n",
       "      <td>2</td>\n",
       "      <td>76.00</td>\n",
       "      <td>2</td>\n",
       "      <td>2</td>\n",
       "      <td>1</td>\n",
       "      <td>1</td>\n",
       "      <td>-1</td>\n",
       "      <td>-1</td>\n",
       "      <td>是</td>\n",
       "      <td>0</td>\n",
       "      <td>1</td>\n",
       "      <td>房源不呈现</td>\n",
       "      <td>二次开发</td>\n",
       "      <td>业主资料</td>\n",
       "      <td>B级房源</td>\n",
       "      <td>南</td>\n",
       "      <td>钱江世纪城</td>\n",
       "      <td>萧山区</td>\n",
       "      <td>3800000</td>\n",
       "    </tr>\n",
       "    <tr>\n",
       "      <td>3</td>\n",
       "      <td>87.19</td>\n",
       "      <td>2</td>\n",
       "      <td>2</td>\n",
       "      <td>1</td>\n",
       "      <td>1</td>\n",
       "      <td>-1</td>\n",
       "      <td>-1</td>\n",
       "      <td>未知</td>\n",
       "      <td>0</td>\n",
       "      <td>0</td>\n",
       "      <td>房源在售</td>\n",
       "      <td>人际开发</td>\n",
       "      <td>转介绍</td>\n",
       "      <td>B级房源</td>\n",
       "      <td>西南</td>\n",
       "      <td>未来科技城</td>\n",
       "      <td>余杭区</td>\n",
       "      <td>1580000</td>\n",
       "    </tr>\n",
       "    <tr>\n",
       "      <td>4</td>\n",
       "      <td>102.06</td>\n",
       "      <td>3</td>\n",
       "      <td>2</td>\n",
       "      <td>1</td>\n",
       "      <td>2</td>\n",
       "      <td>0</td>\n",
       "      <td>0</td>\n",
       "      <td>是</td>\n",
       "      <td>0</td>\n",
       "      <td>1</td>\n",
       "      <td>房源在售</td>\n",
       "      <td>二次开发</td>\n",
       "      <td>老客户</td>\n",
       "      <td>B级房源</td>\n",
       "      <td>南,北</td>\n",
       "      <td>体育场路</td>\n",
       "      <td>下城区</td>\n",
       "      <td>4100000</td>\n",
       "    </tr>\n",
       "  </tbody>\n",
       "</table>\n",
       "</div>"
      ],
      "text/plain": [
       "     建筑面积  户型格局-室  户型格局-厅  户型格局-厨  户型格局-卫  是否有车位  是否有学区名额 是否地铁房名称  是否有业主房评  \\\n",
       "0   62.00       2       1       1       1     -1       -1       否        0   \n",
       "1   77.00       3       1       1       1     -1       -1      未知        1   \n",
       "2   76.00       2       2       1       1     -1       -1       是        0   \n",
       "3   87.19       2       2       1       1     -1       -1      未知        0   \n",
       "4  102.06       3       2       1       2      0        0       是        0   \n",
       "\n",
       "   是否VR房 贝壳网呈现状态名称 一级委托来源 二级委托来源    等级   朝向   商圈名称 城区名称       价格  \n",
       "0      0     房源不呈现   人际开发    转介绍  B级房源    南    信义坊  拱墅区  2300000  \n",
       "1      0      房源在售    链家网    链家网  B级房源    南     富阳  富阳区  1700000  \n",
       "2      1     房源不呈现   二次开发   业主资料  B级房源    南  钱江世纪城  萧山区  3800000  \n",
       "3      0      房源在售   人际开发    转介绍  B级房源   西南  未来科技城  余杭区  1580000  \n",
       "4      1      房源在售   二次开发    老客户  B级房源  南,北   体育场路  下城区  4100000  "
      ]
     },
     "execution_count": 63,
     "metadata": {},
     "output_type": "execute_result"
    }
   ],
   "source": [
    "dataset.head()"
   ]
  },
  {
   "cell_type": "markdown",
   "metadata": {},
   "source": [
    "共有18个属性：建筑面积，户型格局-室等等"
   ]
  },
  {
   "cell_type": "markdown",
   "metadata": {},
   "source": [
    "为了方便查看数据，我们对数据属性名进行一些转换"
   ]
  },
  {
   "cell_type": "code",
   "execution_count": null,
   "metadata": {},
   "outputs": [],
   "source": [
    "dataset.rename(columns={'户型格局-室':'室','户型格局-厅':'厅','户型格局-厨':'厨',\n",
    "                        '户型格局-卫':'卫','是否有学区名额':'学区房',\n",
    "                        '地铁房':'是否地铁房','是否有业主房评':'业主房评',\n",
    "                        '建筑面积':'面积','是否VR房':'VR','贝壳网呈现状态名称':'状态',\n",
    "                        '一级委托来源':'一级委托','二级委托来源':'二级委托','商圈名称':'商圈',\n",
    "                        '城faddddddfadsf"
   ]
  }
 ],
 "metadata": {
  "kernelspec": {
   "display_name": "Python 3",
   "language": "python",
   "name": "python3"
  },
  "language_info": {
   "codemirror_mode": {
    "name": "ipython",
    "version": 3
   },
   "file_extension": ".py",
   "mimetype": "text/x-python",
   "name": "python",
   "nbconvert_exporter": "python",
   "pygments_lexer": "ipython3",
   "version": "3.7.4"
  }
 },
 "nbformat": 4,
 "nbformat_minor": 2
}
